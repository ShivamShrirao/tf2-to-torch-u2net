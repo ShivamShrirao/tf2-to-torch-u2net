{
 "cells": [
  {
   "cell_type": "code",
   "execution_count": 1,
   "id": "f0ab4b40",
   "metadata": {},
   "outputs": [],
   "source": [
    "%load_ext autoreload\n",
    "%autoreload 2"
   ]
  },
  {
   "cell_type": "code",
   "execution_count": 2,
   "id": "e1c4d42b",
   "metadata": {},
   "outputs": [],
   "source": [
    "import sys\n",
    "sys.path.append(\"../\")"
   ]
  },
  {
   "cell_type": "markdown",
   "id": "d84008b6",
   "metadata": {},
   "source": [
    "# load torch"
   ]
  },
  {
   "cell_type": "code",
   "execution_count": 3,
   "id": "9cad80f6",
   "metadata": {},
   "outputs": [],
   "source": [
    "import torch\n",
    "import torch.nn.functional as F\n",
    "from torch.cuda import amp\n",
    "import numpy as np"
   ]
  },
  {
   "cell_type": "code",
   "execution_count": 4,
   "id": "6bdabcc1",
   "metadata": {},
   "outputs": [],
   "source": [
    "from rbg720.remove_bg_utils import load_checkpoint_mgpu\n",
    "from rbg720.remove_bg_utils import U2NET"
   ]
  },
  {
   "cell_type": "code",
   "execution_count": 5,
   "id": "1f086cc4",
   "metadata": {},
   "outputs": [],
   "source": [
    "checkpoint_path = '../weights/rbg_interior/interior.pth'"
   ]
  },
  {
   "cell_type": "code",
   "execution_count": 6,
   "id": "21474db4",
   "metadata": {},
   "outputs": [],
   "source": [
    "device='cuda'"
   ]
  },
  {
   "cell_type": "code",
   "execution_count": 7,
   "id": "c55197c9",
   "metadata": {},
   "outputs": [
    {
     "name": "stdout",
     "output_type": "stream",
     "text": [
      "----checkpoints loaded from path: ../weights/rbg_interior/interior.pth----\n"
     ]
    }
   ],
   "source": [
    "rbg = U2NET(in_ch=3, out_ch=1)\n",
    "rbg = load_checkpoint_mgpu(rbg, checkpoint_path)\n",
    "rbg = rbg.eval()\n",
    "rbg = rbg.to(device)"
   ]
  },
  {
   "cell_type": "markdown",
   "id": "3abced11",
   "metadata": {},
   "source": [
    "# load tf"
   ]
  },
  {
   "cell_type": "code",
   "execution_count": 8,
   "id": "a8ac61da",
   "metadata": {},
   "outputs": [],
   "source": [
    "import tensorflow as tf\n",
    "from tensorflow import keras"
   ]
  },
  {
   "cell_type": "code",
   "execution_count": 9,
   "id": "edd74015",
   "metadata": {},
   "outputs": [],
   "source": [
    "from WindowCorrection.config import *\n",
    "from WindowCorrection.dataloader import *\n",
    "from WindowCorrection.model.u2net import *"
   ]
  },
  {
   "cell_type": "code",
   "execution_count": 10,
   "id": "967bff0b",
   "metadata": {},
   "outputs": [],
   "source": [
    "for gpu in tf.config.experimental.list_physical_devices('GPU'):\n",
    "    tf.config.experimental.set_memory_growth(gpu, True)"
   ]
  },
  {
   "cell_type": "code",
   "execution_count": 11,
   "id": "d8ae2b97",
   "metadata": {},
   "outputs": [
    {
     "name": "stderr",
     "output_type": "stream",
     "text": [
      "2022-01-02 22:37:06.275431: I tensorflow/core/platform/cpu_feature_guard.cc:142] This TensorFlow binary is optimized with oneAPI Deep Neural Network Library (oneDNN) to use the following CPU instructions in performance-critical operations:  AVX2 FMA\n",
      "To enable them in other operations, rebuild TensorFlow with the appropriate compiler flags.\n",
      "2022-01-02 22:37:06.736663: I tensorflow/core/common_runtime/gpu/gpu_device.cc:1510] Created device /job:localhost/replica:0/task:0/device:GPU:0 with 13543 MB memory:  -> device: 0, name: Tesla V100-PCIE-16GB, pci bus id: 0001:00:00.0, compute capability: 7.0\n"
     ]
    }
   ],
   "source": [
    "inputs = keras.Input(shape=(768, 768, 3), name=\"INPUT__0\")\n",
    "net = U2NET()\n",
    "out = net(inputs)\n",
    "model = keras.Model(inputs=inputs, outputs=out, name='u2netmodel')\n",
    "model.compile(optimizer=adam, loss=bce_loss, metrics=None)"
   ]
  },
  {
   "cell_type": "code",
   "execution_count": 12,
   "id": "98be5f24",
   "metadata": {},
   "outputs": [],
   "source": [
    "checkpoint_path = '../weights/window_tint/u2net.h5'\n",
    "model.load_weights(checkpoint_path)"
   ]
  },
  {
   "cell_type": "markdown",
   "id": "4ace6625",
   "metadata": {},
   "source": [
    "# Convert Weights"
   ]
  },
  {
   "cell_type": "code",
   "execution_count": 13,
   "id": "23e827d9",
   "metadata": {},
   "outputs": [],
   "source": [
    "totc = 0\n",
    "totb = 0\n",
    "for a,b in zip(list(rbg.named_parameters()), model.trainable_weights):\n",
    "    assert a[1].dtype is torch.float32 and b.dtype is tf.float32\n",
    "    if '.conv_' in a[0] or a[0][:4]=='side' or 'outconv' in a[0]:\n",
    "        assert 'conv2d' in b.name, f'{a[0]}, {b.name}'\n",
    "        if 'kernel' in b.name:\n",
    "            assert '.weight' in a[0], f'{a[0]}, {b.name}'\n",
    "            p = b.numpy().transpose(3,2,0,1)\n",
    "            assert a[1].shape == p.shape\n",
    "            a[1].data.copy_(torch.from_numpy(p))\n",
    "            totc+=1\n",
    "        elif 'bias' in b.name:\n",
    "            assert '.bias' in a[0], f'{a[0]}, {b.name}'\n",
    "            p = b.numpy()\n",
    "            assert a[1].shape == p.shape\n",
    "            a[1].data.copy_(torch.from_numpy(p))\n",
    "            totc+=1\n",
    "        else:\n",
    "            print(a,b)\n",
    "    elif '.bn_' in a[0]:\n",
    "        assert '/batch_normalization' in b.name, f'{a[0]}, {b.name}'\n",
    "        if 'gamma' in b.name:\n",
    "            assert '.weight' in a[0], f'{a[0]}, {b.name}'\n",
    "            p = b.numpy()\n",
    "            assert a[1].shape == p.shape\n",
    "            a[1].data.copy_(torch.from_numpy(p))\n",
    "            totb+=1\n",
    "        elif 'beta' in b.name:\n",
    "            assert '.bias' in a[0], f'{a[0]}, {b.name}'\n",
    "            p = b.numpy()\n",
    "            assert a[1].shape == p.shape\n",
    "            a[1].data.copy_(torch.from_numpy(p))\n",
    "            totb+=1\n",
    "        else:\n",
    "            print(a,b)\n",
    "    else:\n",
    "        print(a[0],b.name)\n",
    "\n",
    "# For BN running mean and var\n",
    "for m,n in zip([i for i in rbg.buffers() if len(i.shape)>0], model.non_trainable_weights):\n",
    "    m.copy_(torch.from_numpy(n.numpy()))\n",
    "\n",
    "# For epsilon in BN\n",
    "for m in list(rbg.named_modules()):\n",
    "    if '.bn_' in m[0]:\n",
    "        m[1].eps = 1e-3"
   ]
  },
  {
   "cell_type": "code",
   "execution_count": 14,
   "id": "6cb2de17",
   "metadata": {},
   "outputs": [
    {
     "data": {
      "text/plain": [
       "(462, 462, 462)"
      ]
     },
     "execution_count": 14,
     "metadata": {},
     "output_type": "execute_result"
    }
   ],
   "source": [
    "totc+totb, len(list(rbg.named_parameters())), len(model.trainable_weights)"
   ]
  },
  {
   "cell_type": "code",
   "execution_count": 15,
   "id": "22eb2fb1",
   "metadata": {},
   "outputs": [],
   "source": [
    "from PIL import Image\n",
    "img = Image.open(\"/home/azureuser/data/prop-transformed.png\")\n",
    "img = img.convert('RGB').resize((768,768))\n",
    "data = np.array(img, dtype=np.float32).transpose(2,0,1)[None]/255\n",
    "data = torch.from_numpy(data).cuda()"
   ]
  },
  {
   "cell_type": "code",
   "execution_count": 16,
   "id": "6b5882c4",
   "metadata": {
    "scrolled": true
   },
   "outputs": [
    {
     "name": "stderr",
     "output_type": "stream",
     "text": [
      "/anaconda/envs/py38_default/lib/python3.8/site-packages/torch/nn/functional.py:3509: UserWarning: nn.functional.upsample is deprecated. Use nn.functional.interpolate instead.\n",
      "  warnings.warn(\"nn.functional.upsample is deprecated. Use nn.functional.interpolate instead.\")\n",
      "/anaconda/envs/py38_default/lib/python3.8/site-packages/torch/nn/functional.py:3631: UserWarning: Default upsampling behavior when mode=bilinear is changed to align_corners=False since 0.4.0. Please specify align_corners=True if the old behavior is desired. See the documentation of nn.Upsample for details.\n",
      "  warnings.warn(\n"
     ]
    }
   ],
   "source": [
    "with torch.inference_mode():\n",
    "    torch_out = torch.sigmoid_(rbg(data)[0])\n",
    "    torch_out = torch_out.mul_(255.).to(torch.uint8)\n",
    "    torch_out = torch_out.cpu().numpy().squeeze()"
   ]
  },
  {
   "cell_type": "code",
   "execution_count": 17,
   "id": "2980aaf2",
   "metadata": {
    "scrolled": false
   },
   "outputs": [
    {
     "name": "stderr",
     "output_type": "stream",
     "text": [
      "2022-01-02 22:37:11.796395: I tensorflow/stream_executor/cuda/cuda_dnn.cc:369] Loaded cuDNN version 8204\n",
      "2022-01-02 22:37:12.255586: I tensorflow/core/platform/default/subprocess.cc:304] Start cannot spawn child process: No such file or directory\n"
     ]
    }
   ],
   "source": [
    "keras_out = model(data.permute(0,2,3,1).cpu().numpy(), training=False)\n",
    "keras_out = (keras_out*255).numpy().astype(np.uint8).squeeze()"
   ]
  },
  {
   "cell_type": "code",
   "execution_count": 18,
   "id": "fd3d0de1",
   "metadata": {},
   "outputs": [],
   "source": [
    "np.testing.assert_allclose(torch_out, keras_out, rtol=1e-03, atol=1e-05)"
   ]
  },
  {
   "cell_type": "code",
   "execution_count": 19,
   "id": "f31f2775",
   "metadata": {
    "scrolled": true
   },
   "outputs": [
    {
     "data": {
      "image/png": "[encoded data removed]",
      "text/plain": [
       "<PIL.Image.Image image mode=L size=768x768 at 0x7F15D05F4F40>"
      ]
     },
     "execution_count": 19,
     "metadata": {},
     "output_type": "execute_result"
    }
   ],
   "source": [
    "Image.fromarray(keras_out)"
   ]
  },
  {
   "cell_type": "code",
   "execution_count": 20,
   "id": "8028fb15",
   "metadata": {
    "scrolled": true
   },
   "outputs": [
    {
     "data": {
      "image/png": "[encoded data removed]",
      "text/plain": [
       "<PIL.Image.Image image mode=L size=768x768 at 0x7F15F98B8A30>"
      ]
     },
     "execution_count": 20,
     "metadata": {},
     "output_type": "execute_result"
    }
   ],
   "source": [
    "Image.fromarray(torch_out)"
   ]
  },
  {
   "cell_type": "markdown",
   "id": "1d16a1fd",
   "metadata": {},
   "source": [
    "#  Trace"
   ]
  },
  {
   "cell_type": "code",
   "execution_count": 21,
   "id": "ed0b11b4",
   "metadata": {},
   "outputs": [],
   "source": [
    "data = torch.randint(0, 255, (1, 3, 768, 768), dtype=torch.uint8, device='cuda')"
   ]
  },
  {
   "cell_type": "code",
   "execution_count": 22,
   "id": "9bd4a6f8",
   "metadata": {},
   "outputs": [],
   "source": [
    "from PIL import Image\n",
    "img = Image.open(\"/home/azureuser/data/prop-transformed.png\")\n",
    "img = img.convert('RGB').resize((768,768))\n",
    "data = np.array(img).transpose(2,0,1)[None]\n",
    "data = torch.from_numpy(data).cuda()"
   ]
  },
  {
   "cell_type": "code",
   "execution_count": 23,
   "id": "b64140d3",
   "metadata": {},
   "outputs": [],
   "source": [
    "from torch.cuda import amp"
   ]
  },
  {
   "cell_type": "code",
   "execution_count": 24,
   "id": "e903051a",
   "metadata": {},
   "outputs": [],
   "source": [
    "class WrappedModel(torch.nn.Module):\n",
    "    def __init__(self, model):\n",
    "        super().__init__()\n",
    "        self.model = model\n",
    "\n",
    "    @torch.inference_mode()\n",
    "    def forward(self, data, fp16=False):\n",
    "        with amp.autocast(enabled=fp16):\n",
    "            data = data.float()\n",
    "            data = data.div_(255.)\n",
    "            x = torch.sigmoid_(self.model(data)[0])\n",
    "            return x.mul_(255.).to(torch.uint8)"
   ]
  },
  {
   "cell_type": "code",
   "execution_count": 25,
   "id": "728dbf29",
   "metadata": {},
   "outputs": [],
   "source": [
    "wrp_model = WrappedModel(rbg).eval()"
   ]
  },
  {
   "cell_type": "code",
   "execution_count": 26,
   "id": "e5bb7f6e",
   "metadata": {},
   "outputs": [],
   "source": [
    "svd_out = wrp_model(data, fp16=False)"
   ]
  },
  {
   "cell_type": "code",
   "execution_count": 27,
   "id": "325f8db6",
   "metadata": {},
   "outputs": [],
   "source": [
    "OUT_PATH = \"/home/azureuser/triton_files/triton-model-repository/u2net_window_tint/1\""
   ]
  },
  {
   "cell_type": "code",
   "execution_count": 28,
   "id": "c0a5ff39",
   "metadata": {},
   "outputs": [],
   "source": [
    "with torch.inference_mode(), torch.jit.optimized_execution(True):\n",
    "    traced_script_module = torch.jit.trace(wrp_model, data)"
   ]
  },
  {
   "cell_type": "code",
   "execution_count": 29,
   "id": "89e986bf",
   "metadata": {},
   "outputs": [
    {
     "name": "stdout",
     "output_type": "stream",
     "text": [
      "def forward(self,\n",
      "    data: Tensor) -> Tensor:\n",
      "  model = self.model\n",
      "  data0 = torch.to(data, 6)\n",
      "  input = torch.div_(data0, CONSTANTS.c0)\n",
      "  x = torch.sigmoid_((model).forward(input, ))\n",
      "  x0 = torch.mul_(x, CONSTANTS.c0)\n",
      "  return torch.to(x0, 0)\n",
      "\n"
     ]
    }
   ],
   "source": [
    "print(traced_script_module.code)"
   ]
  },
  {
   "cell_type": "code",
   "execution_count": 30,
   "id": "d42dd1c3",
   "metadata": {},
   "outputs": [],
   "source": [
    "traced_script_module.save(f\"{OUT_PATH}/model.pt\")"
   ]
  },
  {
   "cell_type": "code",
   "execution_count": 31,
   "id": "2e78c3e6",
   "metadata": {},
   "outputs": [],
   "source": [
    "traced_script_module = torch.jit.load(f\"{OUT_PATH}/model.pt\")"
   ]
  },
  {
   "cell_type": "code",
   "execution_count": 32,
   "id": "8e695a3b",
   "metadata": {},
   "outputs": [
    {
     "name": "stdout",
     "output_type": "stream",
     "text": [
      "torch.Size([1, 1, 768, 768])\n",
      "CPU times: user 325 ms, sys: 45 µs, total: 325 ms\n",
      "Wall time: 324 ms\n"
     ]
    }
   ],
   "source": [
    "%%time\n",
    "torch.cuda.synchronize()\n",
    "with torch.no_grad():\n",
    "    o = traced_script_module(data)\n",
    "torch.cuda.synchronize()\n",
    "print(o.shape)"
   ]
  },
  {
   "cell_type": "code",
   "execution_count": 33,
   "id": "bfc24a59",
   "metadata": {},
   "outputs": [
    {
     "data": {
      "text/plain": [
       "(torch.Size([1, 1, 768, 768]), torch.uint8)"
      ]
     },
     "execution_count": 33,
     "metadata": {},
     "output_type": "execute_result"
    }
   ],
   "source": [
    "o.shape, o.dtype"
   ]
  },
  {
   "cell_type": "code",
   "execution_count": 34,
   "id": "b8a96b81",
   "metadata": {},
   "outputs": [],
   "source": [
    "np.testing.assert_allclose(o.cpu().numpy(), svd_out.cpu().numpy(), rtol=1e-03, atol=1e-05)"
   ]
  },
  {
   "cell_type": "code",
   "execution_count": null,
   "id": "2c9652f9",
   "metadata": {},
   "outputs": [],
   "source": []
  }
 ],
 "metadata": {
  "kernelspec": {
   "display_name": "Python 3 (ipykernel)",
   "language": "python",
   "name": "python3"
  },
  "language_info": {
   "codemirror_mode": {
    "name": "ipython",
    "version": 3
   },
   "file_extension": ".py",
   "mimetype": "text/x-python",
   "name": "python",
   "nbconvert_exporter": "python",
   "pygments_lexer": "ipython3",
   "version": "3.8.12"
  }
 },
 "nbformat": 4,
 "nbformat_minor": 5
}
